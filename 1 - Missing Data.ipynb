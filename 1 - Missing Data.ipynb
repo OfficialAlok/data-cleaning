{
  "cells": [
    {
      "cell_type": "markdown",
      "metadata": {
        "id": "h0Wiq36PGLAR"
      },
      "source": [
        "![rmotr](https://i.imgur.com/jiPp4hj.png)\n",
        "<hr style=\"margin-bottom: 40px;\">\n",
        "\n",
        "<img src=\"https://user-images.githubusercontent.com/7065401/39117173-a433bf6a-46e6-11e8-8a40-b4d4d6422493.jpg\"\n",
        "    style=\"width:300px; float: right; margin: 0 40px 40px 40px;\"></img>\n",
        "\n",
        "# Missing Data"
      ]
    },
    {
      "cell_type": "markdown",
      "metadata": {
        "id": "3jP26q75GLAS"
      },
      "source": [
        "![separator2](https://i.imgur.com/4gX5WFr.png)\n",
        "\n",
        "## Hands on!"
      ]
    },
    {
      "cell_type": "code",
      "execution_count": 1,
      "metadata": {
        "id": "sgF_u1QFGLAT"
      },
      "outputs": [],
      "source": [
        "import numpy as np\n",
        "import pandas as pd"
      ]
    },
    {
      "cell_type": "markdown",
      "metadata": {
        "id": "A2uW2VYuGLAT"
      },
      "source": [
        "What does \"missing data\" mean? What is a missing value? It depends on the origin of the data and the context it was generated. For example, for a survey, a _`Salary`_ field with an empty value, or a number 0, or an invalid value (a string for example) can be considered \"missing data\". These concepts are related to the values that Python will consider \"Falsy\":"
      ]
    },
    {
      "cell_type": "code",
      "execution_count": 2,
      "metadata": {
        "id": "9537Yh_ZGLAT"
      },
      "outputs": [],
      "source": [
        "falsy_values = (0, False, None, '', [], {})"
      ]
    },
    {
      "cell_type": "markdown",
      "metadata": {
        "id": "8aQf0lYJGLAU"
      },
      "source": [
        "For Python, all the values above are considered \"falsy\":"
      ]
    },
    {
      "cell_type": "code",
      "execution_count": 3,
      "metadata": {
        "scrolled": true,
        "id": "jrVkCiX3GLAU",
        "outputId": "4b2e5e8a-ffc6-45f0-92f2-bfcfe5b3e775",
        "colab": {
          "base_uri": "https://localhost:8080/"
        }
      },
      "outputs": [
        {
          "output_type": "execute_result",
          "data": {
            "text/plain": [
              "False"
            ]
          },
          "metadata": {},
          "execution_count": 3
        }
      ],
      "source": [
        "any(falsy_values)"
      ]
    },
    {
      "cell_type": "markdown",
      "metadata": {
        "id": "O7g-cOFdGLAU"
      },
      "source": [
        "Numpy has a special \"nullable\" value for numbers which is `np.nan`. It's _NaN_: \"Not a number\""
      ]
    },
    {
      "cell_type": "code",
      "execution_count": 4,
      "metadata": {
        "id": "Fd4AwnPXGLAU",
        "outputId": "fe8dc040-5c29-4ccc-f638-306db2689894",
        "colab": {
          "base_uri": "https://localhost:8080/"
        }
      },
      "outputs": [
        {
          "output_type": "execute_result",
          "data": {
            "text/plain": [
              "nan"
            ]
          },
          "metadata": {},
          "execution_count": 4
        }
      ],
      "source": [
        "np.nan"
      ]
    },
    {
      "cell_type": "markdown",
      "metadata": {
        "id": "IjKba9CHGLAV"
      },
      "source": [
        "The `np.nan` value is kind of a virus. Everything that it touches becomes `np.nan`:"
      ]
    },
    {
      "cell_type": "code",
      "execution_count": 5,
      "metadata": {
        "id": "UNoqWqe6GLAV",
        "outputId": "b22a89ed-1bf8-4528-8cb7-3e2e673312e9",
        "colab": {
          "base_uri": "https://localhost:8080/"
        }
      },
      "outputs": [
        {
          "output_type": "execute_result",
          "data": {
            "text/plain": [
              "nan"
            ]
          },
          "metadata": {},
          "execution_count": 5
        }
      ],
      "source": [
        "3 + np.nan"
      ]
    },
    {
      "cell_type": "code",
      "execution_count": 6,
      "metadata": {
        "id": "ORvYMbN_GLAV"
      },
      "outputs": [],
      "source": [
        "a = np.array([1, 2, 3, np.nan, np.nan, 4])"
      ]
    },
    {
      "cell_type": "code",
      "execution_count": 7,
      "metadata": {
        "id": "J_eSabT6GLAV",
        "outputId": "a13240e7-dcb5-4e71-ca21-45ffa7c9521d",
        "colab": {
          "base_uri": "https://localhost:8080/"
        }
      },
      "outputs": [
        {
          "output_type": "execute_result",
          "data": {
            "text/plain": [
              "nan"
            ]
          },
          "metadata": {},
          "execution_count": 7
        }
      ],
      "source": [
        "a.sum()"
      ]
    },
    {
      "cell_type": "code",
      "execution_count": 8,
      "metadata": {
        "id": "-dp4IrxBGLAW",
        "outputId": "d53db112-ea9c-4c99-bc0f-02821c057697",
        "colab": {
          "base_uri": "https://localhost:8080/"
        }
      },
      "outputs": [
        {
          "output_type": "execute_result",
          "data": {
            "text/plain": [
              "nan"
            ]
          },
          "metadata": {},
          "execution_count": 8
        }
      ],
      "source": [
        "a.mean()"
      ]
    },
    {
      "cell_type": "markdown",
      "metadata": {
        "id": "WgHnNZMuGLAW"
      },
      "source": [
        "This is better than regular `None` values, which in the previous examples would have raised an exception:"
      ]
    },
    {
      "cell_type": "code",
      "execution_count": null,
      "metadata": {
        "id": "Ip6pYOJeGLAW"
      },
      "outputs": [],
      "source": [
        "3 + None"
      ]
    },
    {
      "cell_type": "markdown",
      "metadata": {
        "id": "1wtkd8iWGLAW"
      },
      "source": [
        "For a numeric array, the `None` value is replaced by `np.nan`:"
      ]
    },
    {
      "cell_type": "code",
      "execution_count": 10,
      "metadata": {
        "id": "LR-rJ0irGLAW"
      },
      "outputs": [],
      "source": [
        "a = np.array([1, 2, 3, np.nan, None, 4], dtype='float')"
      ]
    },
    {
      "cell_type": "code",
      "execution_count": 11,
      "metadata": {
        "id": "-rlEKfR9GLAW",
        "outputId": "f2bca7fe-63cd-4c67-beef-a3e273107b1f",
        "colab": {
          "base_uri": "https://localhost:8080/"
        }
      },
      "outputs": [
        {
          "output_type": "execute_result",
          "data": {
            "text/plain": [
              "array([ 1.,  2.,  3., nan, nan,  4.])"
            ]
          },
          "metadata": {},
          "execution_count": 11
        }
      ],
      "source": [
        "a"
      ]
    },
    {
      "cell_type": "markdown",
      "metadata": {
        "id": "4hO4VuF_GLAW"
      },
      "source": [
        "As we said, `np.nan` is like a virus. If you have any `nan` value in an array and you try to perform an operation on it, you'll get unexpected results:"
      ]
    },
    {
      "cell_type": "code",
      "execution_count": 12,
      "metadata": {
        "id": "7-ciQdh9GLAW"
      },
      "outputs": [],
      "source": [
        "a = np.array([1, 2, 3, np.nan, np.nan, 4])"
      ]
    },
    {
      "cell_type": "code",
      "execution_count": 13,
      "metadata": {
        "id": "lcsQqYEeGLAX",
        "outputId": "e210dd54-d452-4fa0-bfaf-861295768cd4",
        "colab": {
          "base_uri": "https://localhost:8080/"
        }
      },
      "outputs": [
        {
          "output_type": "execute_result",
          "data": {
            "text/plain": [
              "nan"
            ]
          },
          "metadata": {},
          "execution_count": 13
        }
      ],
      "source": [
        "a.mean()"
      ]
    },
    {
      "cell_type": "code",
      "execution_count": 14,
      "metadata": {
        "id": "V_3sSAW7GLAX",
        "outputId": "3b862a2b-59c6-4fd0-fbdc-8eb1d8fe15a2",
        "colab": {
          "base_uri": "https://localhost:8080/"
        }
      },
      "outputs": [
        {
          "output_type": "execute_result",
          "data": {
            "text/plain": [
              "nan"
            ]
          },
          "metadata": {},
          "execution_count": 14
        }
      ],
      "source": [
        "a.sum()"
      ]
    },
    {
      "cell_type": "markdown",
      "metadata": {
        "id": "EO5fGF-NGLAX"
      },
      "source": [
        "Numpy also supports an \"Infinite\" type:"
      ]
    },
    {
      "cell_type": "code",
      "execution_count": 15,
      "metadata": {
        "id": "-Yhld7f9GLAX",
        "outputId": "960b8d0c-2beb-47b2-a524-a9980be7a66c",
        "colab": {
          "base_uri": "https://localhost:8080/"
        }
      },
      "outputs": [
        {
          "output_type": "execute_result",
          "data": {
            "text/plain": [
              "inf"
            ]
          },
          "metadata": {},
          "execution_count": 15
        }
      ],
      "source": [
        "np.inf"
      ]
    },
    {
      "cell_type": "markdown",
      "metadata": {
        "id": "b3ljIZruGLAX"
      },
      "source": [
        "Which also behaves as a virus:"
      ]
    },
    {
      "cell_type": "code",
      "execution_count": 16,
      "metadata": {
        "id": "osgEZh3OGLAX",
        "outputId": "c8ab1615-9403-4450-8da5-3ac24d9794c9",
        "colab": {
          "base_uri": "https://localhost:8080/"
        }
      },
      "outputs": [
        {
          "output_type": "execute_result",
          "data": {
            "text/plain": [
              "inf"
            ]
          },
          "metadata": {},
          "execution_count": 16
        }
      ],
      "source": [
        "3 + np.inf"
      ]
    },
    {
      "cell_type": "code",
      "execution_count": 17,
      "metadata": {
        "id": "XCXC5GXTGLAX",
        "outputId": "51edef19-c1aa-4d5a-f95e-025ef02f71c4",
        "colab": {
          "base_uri": "https://localhost:8080/"
        }
      },
      "outputs": [
        {
          "output_type": "execute_result",
          "data": {
            "text/plain": [
              "inf"
            ]
          },
          "metadata": {},
          "execution_count": 17
        }
      ],
      "source": [
        "np.inf / 3"
      ]
    },
    {
      "cell_type": "code",
      "execution_count": 18,
      "metadata": {
        "id": "hFw4qeZiGLAX",
        "outputId": "02b8db18-7ad2-4321-e250-a99405a76d85",
        "colab": {
          "base_uri": "https://localhost:8080/"
        }
      },
      "outputs": [
        {
          "output_type": "execute_result",
          "data": {
            "text/plain": [
              "nan"
            ]
          },
          "metadata": {},
          "execution_count": 18
        }
      ],
      "source": [
        "np.inf / np.inf"
      ]
    },
    {
      "cell_type": "code",
      "execution_count": 20,
      "metadata": {
        "id": "w-UmB79lGLAX"
      },
      "outputs": [],
      "source": [
        "b = np.array([1, 2, 3, np.inf, np.nan, 4], dtype=np.float_)"
      ]
    },
    {
      "cell_type": "code",
      "execution_count": 21,
      "metadata": {
        "id": "8HQQKsdTGLAX",
        "outputId": "b8087910-33a7-4d3e-db56-b00997becf8d",
        "colab": {
          "base_uri": "https://localhost:8080/"
        }
      },
      "outputs": [
        {
          "output_type": "execute_result",
          "data": {
            "text/plain": [
              "nan"
            ]
          },
          "metadata": {},
          "execution_count": 21
        }
      ],
      "source": [
        "b.sum()"
      ]
    },
    {
      "cell_type": "markdown",
      "metadata": {
        "id": "PLjZwHhLGLAX"
      },
      "source": [
        "![separator1](https://i.imgur.com/ZUWYTii.png)\n",
        "\n",
        "### Checking for `nan` or `inf`\n",
        "\n",
        "There are two functions: `np.isnan` and `np.isinf` that will perform the desired checks:"
      ]
    },
    {
      "cell_type": "code",
      "execution_count": 22,
      "metadata": {
        "id": "ko4pdVanGLAY",
        "outputId": "e4289197-62a4-4316-da8e-3305c3044637",
        "colab": {
          "base_uri": "https://localhost:8080/"
        }
      },
      "outputs": [
        {
          "output_type": "execute_result",
          "data": {
            "text/plain": [
              "True"
            ]
          },
          "metadata": {},
          "execution_count": 22
        }
      ],
      "source": [
        "np.isnan(np.nan)"
      ]
    },
    {
      "cell_type": "code",
      "execution_count": 23,
      "metadata": {
        "id": "TjwlRVclGLAY",
        "outputId": "7eef322a-b5d6-4a8d-efcf-892a4025a57b",
        "colab": {
          "base_uri": "https://localhost:8080/"
        }
      },
      "outputs": [
        {
          "output_type": "execute_result",
          "data": {
            "text/plain": [
              "True"
            ]
          },
          "metadata": {},
          "execution_count": 23
        }
      ],
      "source": [
        "np.isinf(np.inf)"
      ]
    },
    {
      "cell_type": "markdown",
      "metadata": {
        "id": "8TzEDPQTGLAY"
      },
      "source": [
        "And the joint operation can be performed with `np.isfinite`."
      ]
    },
    {
      "cell_type": "code",
      "execution_count": 24,
      "metadata": {
        "id": "e43Jzex5GLAY",
        "outputId": "5b11b952-eda0-4170-b684-0c9a1f086c8f",
        "colab": {
          "base_uri": "https://localhost:8080/"
        }
      },
      "outputs": [
        {
          "output_type": "execute_result",
          "data": {
            "text/plain": [
              "(False, False)"
            ]
          },
          "metadata": {},
          "execution_count": 24
        }
      ],
      "source": [
        "np.isfinite(np.nan), np.isfinite(np.inf)"
      ]
    },
    {
      "cell_type": "markdown",
      "metadata": {
        "id": "PL7wCVd-GLAY"
      },
      "source": [
        "`np.isnan` and `np.isinf` also take arrays as inputs, and return boolean arrays as results:"
      ]
    },
    {
      "cell_type": "code",
      "execution_count": 25,
      "metadata": {
        "id": "WW-5xJXfGLAY",
        "outputId": "2d07af81-1f18-463c-c770-5c937a8d9373",
        "colab": {
          "base_uri": "https://localhost:8080/"
        }
      },
      "outputs": [
        {
          "output_type": "execute_result",
          "data": {
            "text/plain": [
              "array([False, False, False,  True, False, False])"
            ]
          },
          "metadata": {},
          "execution_count": 25
        }
      ],
      "source": [
        "np.isnan(np.array([1, 2, 3, np.nan, np.inf, 4]))"
      ]
    },
    {
      "cell_type": "code",
      "execution_count": 26,
      "metadata": {
        "id": "lciqA3cHGLAY",
        "outputId": "e2813458-52c1-43b4-93d7-5444b0b0fafa",
        "colab": {
          "base_uri": "https://localhost:8080/"
        }
      },
      "outputs": [
        {
          "output_type": "execute_result",
          "data": {
            "text/plain": [
              "array([False, False, False, False,  True, False])"
            ]
          },
          "metadata": {},
          "execution_count": 26
        }
      ],
      "source": [
        "np.isinf(np.array([1, 2, 3, np.nan, np.inf, 4]))"
      ]
    },
    {
      "cell_type": "code",
      "execution_count": 27,
      "metadata": {
        "scrolled": true,
        "id": "6utacWk7GLAc",
        "outputId": "025604a5-5361-4782-b10d-34c78c7b82f1",
        "colab": {
          "base_uri": "https://localhost:8080/"
        }
      },
      "outputs": [
        {
          "output_type": "execute_result",
          "data": {
            "text/plain": [
              "array([ True,  True,  True, False, False,  True])"
            ]
          },
          "metadata": {},
          "execution_count": 27
        }
      ],
      "source": [
        "np.isfinite(np.array([1, 2, 3, np.nan, np.inf, 4]))"
      ]
    },
    {
      "cell_type": "markdown",
      "metadata": {
        "id": "J2d9dykAGLAc"
      },
      "source": [
        "_Note: It's not so common to find infinite values. From now on, we'll keep working with only `np.nan`_"
      ]
    },
    {
      "cell_type": "markdown",
      "metadata": {
        "id": "qAq5e4eZGLAc"
      },
      "source": [
        "![separator1](https://i.imgur.com/ZUWYTii.png)\n",
        "\n",
        "### Filtering them out\n",
        "\n",
        "Whenever you're trying to perform an operation with a Numpy array and you know there might be missing values, you'll need to filter them out before proceeding, to avoid `nan` propagation. We'll use a combination of the previous `np.isnan` + boolean arrays for this purpose:"
      ]
    },
    {
      "cell_type": "code",
      "execution_count": 29,
      "metadata": {
        "id": "1QhOCQZoGLAc"
      },
      "outputs": [],
      "source": [
        "a = np.array([1, 2, 3, np.nan, np.nan, 4])"
      ]
    },
    {
      "cell_type": "code",
      "execution_count": 30,
      "metadata": {
        "id": "Lxn_f6i9GLAc",
        "outputId": "aeff6aa2-62b8-477b-b90b-01e028a9264f",
        "colab": {
          "base_uri": "https://localhost:8080/"
        }
      },
      "outputs": [
        {
          "output_type": "execute_result",
          "data": {
            "text/plain": [
              "array([1., 2., 3., 4.])"
            ]
          },
          "metadata": {},
          "execution_count": 30
        }
      ],
      "source": [
        "a[~np.isnan(a)]"
      ]
    },
    {
      "cell_type": "markdown",
      "metadata": {
        "id": "d1IxhQj7GLAc"
      },
      "source": [
        "Which is equivalent to:"
      ]
    },
    {
      "cell_type": "code",
      "execution_count": 31,
      "metadata": {
        "id": "Ycp3JmjcGLAc",
        "outputId": "a4d5a169-59c8-47b5-cb76-ee33fc72dea2",
        "colab": {
          "base_uri": "https://localhost:8080/"
        }
      },
      "outputs": [
        {
          "output_type": "execute_result",
          "data": {
            "text/plain": [
              "array([1., 2., 3., 4.])"
            ]
          },
          "metadata": {},
          "execution_count": 31
        }
      ],
      "source": [
        "a[np.isfinite(a)]"
      ]
    },
    {
      "cell_type": "markdown",
      "metadata": {
        "id": "LbLIW8XIGLAd"
      },
      "source": [
        "And with that result, all the operation can be now performed:"
      ]
    },
    {
      "cell_type": "code",
      "execution_count": 32,
      "metadata": {
        "id": "HgAGtiZjGLAd",
        "outputId": "1464a3b6-ea92-4b63-c662-daf22f90e8b8",
        "colab": {
          "base_uri": "https://localhost:8080/"
        }
      },
      "outputs": [
        {
          "output_type": "execute_result",
          "data": {
            "text/plain": [
              "10.0"
            ]
          },
          "metadata": {},
          "execution_count": 32
        }
      ],
      "source": [
        "a[np.isfinite(a)].sum()"
      ]
    },
    {
      "cell_type": "code",
      "execution_count": 33,
      "metadata": {
        "scrolled": true,
        "id": "YBWF7W-EGLAd",
        "outputId": "cd7a6c8d-99ff-477c-cfa3-403d19c418ec",
        "colab": {
          "base_uri": "https://localhost:8080/"
        }
      },
      "outputs": [
        {
          "output_type": "execute_result",
          "data": {
            "text/plain": [
              "2.5"
            ]
          },
          "metadata": {},
          "execution_count": 33
        }
      ],
      "source": [
        "a[np.isfinite(a)].mean()"
      ]
    },
    {
      "cell_type": "markdown",
      "metadata": {
        "id": "M6nOmVTrGLAd"
      },
      "source": [
        "![separator2](https://i.imgur.com/4gX5WFr.png)"
      ]
    }
  ],
  "metadata": {
    "kernelspec": {
      "display_name": "Python 3",
      "language": "python",
      "name": "python3"
    },
    "language_info": {
      "codemirror_mode": {
        "name": "ipython",
        "version": 3
      },
      "file_extension": ".py",
      "mimetype": "text/x-python",
      "name": "python",
      "nbconvert_exporter": "python",
      "pygments_lexer": "ipython3",
      "version": "3.8.1"
    },
    "colab": {
      "provenance": []
    }
  },
  "nbformat": 4,
  "nbformat_minor": 0
}